{
  "cells": [
    {
      "cell_type": "markdown",
      "source": [],
      "metadata": {
        "id": "zzC9yVwsKmEc"
      },
      "id": "zzC9yVwsKmEc"
    },
    {
      "cell_type": "markdown",
      "source": [],
      "metadata": {
        "id": "5ScO_yFWKx5n"
      },
      "id": "5ScO_yFWKx5n"
    },
    {
      "cell_type": "markdown",
      "source": [
        "微调后的模型获得的能力:\n",
        "1.双模式操作能力:\n",
        "。普通对话模式:适用于日常聊天场景\n",
        "。思考模式(Thinking Mode):用于解决需要推理的问题2.数学推理能力: 能够解决数学问题并展示详细的推理过程，如示例中的\"解方程(x+2)2=0”3.对话能力保持: 同时保持了自然对话的能力，能够进行流畅的多轮对话微调使模型成为一个\"双重人格\"的助手，既能进行普通闲聊，又能在需要时切换到更严谨的 思考模式来解决复杂问题，特别是数学问题,"
      ],
      "metadata": {
        "id": "jqVhYn3NKbmI"
      },
      "id": "jqVhYn3NKbmI"
    },
    {
      "cell_type": "code",
      "source": [
        "### 环境安装\n",
        "#在Google Colab环境中运行时的特殊安装流程\n",
        "# 首先安装所有依赖库，但不处理它们的依赖关系(--no-deps参数)\n",
        "!pip install --no-deps bitsandbytes accelerate xformers==0.0.29.post3 peft trl==0.15.2 triton cut_cross_er\n"
      ],
      "metadata": {
        "id": "xt2QHs6be2t4",
        "outputId": "13961c5c-c836-4368-fe0e-cf6b34df7fb1",
        "colab": {
          "base_uri": "https://localhost:8080/"
        }
      },
      "id": "xt2QHs6be2t4",
      "execution_count": 1,
      "outputs": [
        {
          "output_type": "stream",
          "name": "stdout",
          "text": [
            "Collecting bitsandbytes\n",
            "  Downloading bitsandbytes-0.45.5-py3-none-manylinux_2_24_x86_64.whl.metadata (5.0 kB)\n",
            "Requirement already satisfied: accelerate in /usr/local/lib/python3.11/dist-packages (1.6.0)\n",
            "Collecting xformers==0.0.29.post3\n",
            "  Downloading xformers-0.0.29.post3-cp311-cp311-manylinux_2_28_x86_64.whl.metadata (1.0 kB)\n",
            "Requirement already satisfied: peft in /usr/local/lib/python3.11/dist-packages (0.15.2)\n",
            "Collecting trl==0.15.2\n",
            "  Downloading trl-0.15.2-py3-none-any.whl.metadata (11 kB)\n",
            "Requirement already satisfied: triton in /usr/local/lib/python3.11/dist-packages (3.2.0)\n",
            "\u001b[31mERROR: Could not find a version that satisfies the requirement cut_cross_er (from versions: none)\u001b[0m\u001b[31m\n",
            "\u001b[0m\u001b[31mERROR: No matching distribution found for cut_cross_er\u001b[0m\u001b[31m\n",
            "\u001b[0m"
          ]
        }
      ]
    }
  ],
  "metadata": {
    "kernelspec": {
      "display_name": "Python 3",
      "name": "python3"
    },
    "language_info": {
      "codemirror_mode": {
        "name": "ipython",
        "version": 3
      },
      "file_extension": ".py",
      "mimetype": "text/x-python",
      "name": "python",
      "nbconvert_exporter": "python",
      "pygments_lexer": "ipython3",
      "version": "3.11.7"
    },
    "colab": {
      "provenance": [],
      "gpuType": "T4"
    },
    "accelerator": "GPU"
  },
  "nbformat": 4,
  "nbformat_minor": 5
}